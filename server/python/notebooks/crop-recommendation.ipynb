{
 "cells": [
  {
   "attachments": {},
   "cell_type": "markdown",
   "metadata": {},
   "source": [
    "## Importing the modules"
   ]
  },
  {
   "attachments": {},
   "cell_type": "markdown",
   "metadata": {},
   "source": [
    "# Crop Recommendation Model"
   ]
  },
  {
   "cell_type": "code",
   "execution_count": 38,
   "metadata": {},
   "outputs": [
    {
     "name": "stdout",
     "output_type": "stream",
     "text": [
      "Requirement already satisfied: xgboost in c:\\python39\\lib\\site-packages (1.7.4)\n",
      "Requirement already satisfied: numpy in c:\\python39\\lib\\site-packages (from xgboost) (1.20.2)\n",
      "Requirement already satisfied: scipy in c:\\python39\\lib\\site-packages (from xgboost) (1.7.3)\n"
     ]
    },
    {
     "name": "stderr",
     "output_type": "stream",
     "text": [
      "WARNING: Ignoring invalid distribution -ip (c:\\python39\\lib\\site-packages)\n",
      "WARNING: Ignoring invalid distribution - (c:\\python39\\lib\\site-packages)\n",
      "WARNING: Ignoring invalid distribution -ip (c:\\python39\\lib\\site-packages)\n",
      "WARNING: Ignoring invalid distribution - (c:\\python39\\lib\\site-packages)\n",
      "WARNING: Ignoring invalid distribution -ip (c:\\python39\\lib\\site-packages)\n",
      "WARNING: Ignoring invalid distribution - (c:\\python39\\lib\\site-packages)\n",
      "WARNING: Ignoring invalid distribution -ip (c:\\python39\\lib\\site-packages)\n",
      "WARNING: Ignoring invalid distribution - (c:\\python39\\lib\\site-packages)\n",
      "WARNING: You are using pip version 21.3.1; however, version 23.0.1 is available.\n",
      "You should consider upgrading via the 'c:\\python39\\python.exe -m pip install --upgrade pip' command.\n"
     ]
    }
   ],
   "source": [
    "! pip install xgboost --user"
   ]
  },
  {
   "cell_type": "code",
   "execution_count": 2,
   "metadata": {},
   "outputs": [],
   "source": [
    "from __future__ import print_function\n",
    "import pandas as pd\n",
    "import numpy as np\n",
    "import matplotlib.pyplot as plt\n",
    "import seaborn as sns\n",
    "from sklearn.metrics import classification_report\n",
    "from sklearn import metrics\n",
    "from sklearn import tree\n",
    "import warnings\n",
    "import time\n",
    "from keras.wrappers.scikit_learn import KerasClassifier\n",
    "warnings.filterwarnings('ignore')\n",
    "# Import ML models\n",
    "# Decision Tree Classifier\n",
    "from sklearn.tree import DecisionTreeClassifier\n",
    "# Gaussian Naive Bayes Classifier\n",
    "from sklearn.naive_bayes import GaussianNB\n",
    "# Support Vector Machine\n",
    "from sklearn.svm import SVC\n",
    "from sklearn.preprocessing import MinMaxScaler\n",
    "# Logistic Regression\n",
    "from sklearn.linear_model import LogisticRegression\n",
    "# Random Forest Classifier\n",
    "from sklearn.ensemble import RandomForestClassifier\n",
    "# XGBoost Classifier\n",
    "import xgboost as xgb"
   ]
  },
  {
   "attachments": {},
   "cell_type": "markdown",
   "metadata": {},
   "source": [
    "## Load the dataset"
   ]
  },
  {
   "cell_type": "code",
   "execution_count": 3,
   "metadata": {},
   "outputs": [],
   "source": [
    "df = pd.read_csv('../datasets/crop-recommendation.csv')"
   ]
  },
  {
   "cell_type": "code",
   "execution_count": 4,
   "metadata": {},
   "outputs": [
    {
     "data": {
      "text/html": [
       "<div>\n",
       "<style scoped>\n",
       "    .dataframe tbody tr th:only-of-type {\n",
       "        vertical-align: middle;\n",
       "    }\n",
       "\n",
       "    .dataframe tbody tr th {\n",
       "        vertical-align: top;\n",
       "    }\n",
       "\n",
       "    .dataframe thead th {\n",
       "        text-align: right;\n",
       "    }\n",
       "</style>\n",
       "<table border=\"1\" class=\"dataframe\">\n",
       "  <thead>\n",
       "    <tr style=\"text-align: right;\">\n",
       "      <th></th>\n",
       "      <th>N</th>\n",
       "      <th>P</th>\n",
       "      <th>K</th>\n",
       "      <th>temperature</th>\n",
       "      <th>humidity</th>\n",
       "      <th>ph</th>\n",
       "      <th>rainfall</th>\n",
       "      <th>label</th>\n",
       "    </tr>\n",
       "  </thead>\n",
       "  <tbody>\n",
       "    <tr>\n",
       "      <th>0</th>\n",
       "      <td>90</td>\n",
       "      <td>42</td>\n",
       "      <td>43</td>\n",
       "      <td>20.879744</td>\n",
       "      <td>82.002744</td>\n",
       "      <td>6.502985</td>\n",
       "      <td>202.935536</td>\n",
       "      <td>rice</td>\n",
       "    </tr>\n",
       "    <tr>\n",
       "      <th>1</th>\n",
       "      <td>85</td>\n",
       "      <td>58</td>\n",
       "      <td>41</td>\n",
       "      <td>21.770462</td>\n",
       "      <td>80.319644</td>\n",
       "      <td>7.038096</td>\n",
       "      <td>226.655537</td>\n",
       "      <td>rice</td>\n",
       "    </tr>\n",
       "    <tr>\n",
       "      <th>2</th>\n",
       "      <td>60</td>\n",
       "      <td>55</td>\n",
       "      <td>44</td>\n",
       "      <td>23.004459</td>\n",
       "      <td>82.320763</td>\n",
       "      <td>7.840207</td>\n",
       "      <td>263.964248</td>\n",
       "      <td>rice</td>\n",
       "    </tr>\n",
       "  </tbody>\n",
       "</table>\n",
       "</div>"
      ],
      "text/plain": [
       "    N   P   K  temperature   humidity        ph    rainfall label\n",
       "0  90  42  43    20.879744  82.002744  6.502985  202.935536  rice\n",
       "1  85  58  41    21.770462  80.319644  7.038096  226.655537  rice\n",
       "2  60  55  44    23.004459  82.320763  7.840207  263.964248  rice"
      ]
     },
     "execution_count": 4,
     "metadata": {},
     "output_type": "execute_result"
    }
   ],
   "source": [
    "df.head(3)"
   ]
  },
  {
   "cell_type": "code",
   "execution_count": 5,
   "metadata": {},
   "outputs": [
    {
     "data": {
      "text/plain": [
       "(17600, (2200, 8))"
      ]
     },
     "execution_count": 5,
     "metadata": {},
     "output_type": "execute_result"
    }
   ],
   "source": [
    "df.size, df.shape"
   ]
  },
  {
   "cell_type": "code",
   "execution_count": 6,
   "metadata": {},
   "outputs": [
    {
     "data": {
      "text/plain": [
       "Index(['N', 'P', 'K', 'temperature', 'humidity', 'ph', 'rainfall', 'label'], dtype='object')"
      ]
     },
     "execution_count": 6,
     "metadata": {},
     "output_type": "execute_result"
    }
   ],
   "source": [
    "df.columns"
   ]
  },
  {
   "cell_type": "code",
   "execution_count": 7,
   "metadata": {},
   "outputs": [
    {
     "data": {
      "text/plain": [
       "array(['rice', 'maize', 'chickpea', 'kidneybeans', 'pigeonpeas',\n",
       "       'mothbeans', 'mungbean', 'blackgram', 'lentil', 'pomegranate',\n",
       "       'banana', 'mango', 'grapes', 'watermelon', 'muskmelon', 'apple',\n",
       "       'orange', 'papaya', 'coconut', 'cotton', 'jute', 'coffee'],\n",
       "      dtype=object)"
      ]
     },
     "execution_count": 7,
     "metadata": {},
     "output_type": "execute_result"
    }
   ],
   "source": [
    "df['label'].unique()"
   ]
  },
  {
   "cell_type": "code",
   "execution_count": 8,
   "metadata": {},
   "outputs": [
    {
     "data": {
      "text/plain": [
       "N                int64\n",
       "P                int64\n",
       "K                int64\n",
       "temperature    float64\n",
       "humidity       float64\n",
       "ph             float64\n",
       "rainfall       float64\n",
       "label           object\n",
       "dtype: object"
      ]
     },
     "execution_count": 8,
     "metadata": {},
     "output_type": "execute_result"
    }
   ],
   "source": [
    "df.dtypes"
   ]
  },
  {
   "attachments": {},
   "cell_type": "markdown",
   "metadata": {},
   "source": [
    "## Cleaning the data"
   ]
  },
  {
   "cell_type": "code",
   "execution_count": 8,
   "metadata": {},
   "outputs": [
    {
     "data": {
      "text/plain": [
       "Text(0.5, 1.0, 'Null values graph before clearing null values')"
      ]
     },
     "execution_count": 8,
     "metadata": {},
     "output_type": "execute_result"
    },
    {
     "data": {
      "image/png": "[encoded data removed]",
      "text/plain": [
       "<Figure size 432x288 with 1 Axes>"
      ]
     },
     "metadata": {
      "needs_background": "light"
     },
     "output_type": "display_data"
    }
   ],
   "source": [
    "y_tick_labels = [i for i in range(df.shape[0])]\n",
    "ax = sns.heatmap(df.isnull(),yticklabels=False,cbar=False,cmap='viridis')\n",
    "ax.set_title('Null values graph before clearing null values')"
   ]
  },
  {
   "cell_type": "code",
   "execution_count": 10,
   "metadata": {},
   "outputs": [
    {
     "name": "stdout",
     "output_type": "stream",
     "text": [
      "So, before removing null values, the shape of the dataframe was: (2200, 8)\n",
      "After removing null values, the shape of the dataframe is: (2200, 8)\n"
     ]
    }
   ],
   "source": [
    "# To verify if there are no null values already present, let's still check out the shapes of the dataframe before and after the dropna() function\n",
    "print(f\"So, before removing null values, the shape of the dataframe was: {df.shape}\")\n",
    "df.dropna()\n",
    "print(f\"After removing null values, the shape of the dataframe is: {df.shape}\")"
   ]
  },
  {
   "attachments": {},
   "cell_type": "markdown",
   "metadata": {},
   "source": [
    "## Check out data dependencies and multicollinearity"
   ]
  },
  {
   "cell_type": "code",
   "execution_count": 11,
   "metadata": {},
   "outputs": [
    {
     "data": {
      "image/png": "[encoded data removed]",
      "text/plain": [
       "<Figure size 432x288 with 2 Axes>"
      ]
     },
     "metadata": {
      "needs_background": "light"
     },
     "output_type": "display_data"
    }
   ],
   "source": [
    "corr = df.corr()\n",
    "ax = sns.heatmap(\n",
    "    corr, \n",
    "    vmin=-1, vmax=1, center=0,\n",
    "    cmap=sns.diverging_palette(20, 220, n=200),\n",
    "    square=True\n",
    ")"
   ]
  },
  {
   "cell_type": "code",
   "execution_count": 9,
   "metadata": {},
   "outputs": [
    {
     "data": {
      "text/plain": [
       "2200"
      ]
     },
     "execution_count": 9,
     "metadata": {},
     "output_type": "execute_result"
    }
   ],
   "source": [
    "len(df['label'])"
   ]
  },
  {
   "cell_type": "code",
   "execution_count": 26,
   "metadata": {},
   "outputs": [
    {
     "data": {
      "image/png": "[encoded data removed]",
      "text/plain": [
       "<Figure size 864x864 with 1 Axes>"
      ]
     },
     "metadata": {},
     "output_type": "display_data"
    }
   ],
   "source": [
    "sns.countplot(y=df[\"label\"])\n",
    "sns.set(rc={'figure.figsize':(12, 12)})"
   ]
  },
  {
   "cell_type": "code",
   "execution_count": null,
   "metadata": {},
   "outputs": [],
   "source": []
  },
  {
   "attachments": {},
   "cell_type": "markdown",
   "metadata": {},
   "source": [
    "## Split data into training and testing sections"
   ]
  },
  {
   "cell_type": "code",
   "execution_count": 12,
   "metadata": {},
   "outputs": [],
   "source": [
    "features = df[['N', 'P','K','temperature', 'humidity', 'ph', 'rainfall']]\n",
    "target = df['label']\n",
    "labels = df['label']"
   ]
  },
  {
   "cell_type": "code",
   "execution_count": 13,
   "metadata": {},
   "outputs": [],
   "source": [
    "from sklearn.model_selection import train_test_split\n",
    "X_train, X_test, y_train, y_test = train_test_split(features, target, test_size = 0.2, random_state = 2)"
   ]
  },
  {
   "attachments": {},
   "cell_type": "markdown",
   "metadata": {},
   "source": [
    "## Storing models along with their accuracies in an array "
   ]
  },
  {
   "cell_type": "code",
   "execution_count": 39,
   "metadata": {},
   "outputs": [],
   "source": [
    "models = dict()"
   ]
  },
  {
   "cell_type": "code",
   "execution_count": 40,
   "metadata": {},
   "outputs": [],
   "source": [
    "def create_new_model(X_train, X_test, y_train, y_test, model_name):\n",
    "    if model_name == 'Decision Tree Classifier':\n",
    "        model = DecisionTreeClassifier(criterion=\"entropy\",random_state=2,max_depth=5)\n",
    "        start_time = time.time()\n",
    "        model.fit(X_train, y_train)\n",
    "        end_time = time.time()\n",
    "        total_time = end_time - start_time\n",
    "        y_pred = model.predict(X_test)\n",
    "        accuracy = metrics.accuracy_score(y_test, y_pred)\n",
    "        print(f\"The accuracy for {model_name} model is {accuracy}.\")\n",
    "        models['Decision Tree Classifier'] = (model, accuracy, total_time)\n",
    "\n",
    "    elif model_name == 'Gaussian Naive Bayes':\n",
    "        model = GaussianNB()\n",
    "        start_time = time.time()\n",
    "        model.fit(X_train, y_train)\n",
    "        end_time = time.time()\n",
    "        total_time = end_time - start_time\n",
    "        y_pred = model.predict(X_test)\n",
    "        accuracy = metrics.accuracy_score(y_test, y_pred)\n",
    "        print(f\"The accuracy for {model_name} model is {accuracy}.\")\n",
    "        models['Gaussian Naive Bayes'] = (model, accuracy, total_time)\n",
    "\n",
    "    elif model_name == 'Support Vector Machine':\n",
    "        norm = MinMaxScaler().fit(X_train)\n",
    "        X_train_norm = norm.transform(X_train)\n",
    "        X_test_norm = norm.transform(X_test)\n",
    "        model = SVC(kernel='poly', degree=3, C=1)\n",
    "        start_time = time.time()\n",
    "        model.fit(X_train_norm, y_train)\n",
    "        end_time = time.time()\n",
    "        total_time = end_time - start_time\n",
    "        y_pred = model.predict(X_test_norm)\n",
    "        accuracy = metrics.accuracy_score(y_test, y_pred)\n",
    "        print(f\"The accuracy for {model_name} model is {accuracy}.\")\n",
    "        models['Support Vector Machine'] = (model, accuracy, total_time)\n",
    "\n",
    "    elif model_name == 'Logistic Regression':\n",
    "        model = LogisticRegression(random_state=2)\n",
    "        start_time = time.time()\n",
    "        model.fit(X_train, y_train)\n",
    "        end_time = time.time()\n",
    "        total_time = end_time - start_time\n",
    "        y_pred = model.predict(X_test)\n",
    "        accuracy = metrics.accuracy_score(y_test, y_pred)\n",
    "        print(f\"The accuracy for {model_name} model is {accuracy}.\")\n",
    "        models['Logistic Regression'] = (model, accuracy, total_time)\n",
    "\n",
    "    elif model_name == 'Random Forest Classifier':\n",
    "        model = RandomForestClassifier(n_estimators=20, random_state=0)\n",
    "        start_time = time.time()\n",
    "        model.fit(X_train, y_train)\n",
    "        end_time = time.time()\n",
    "        total_time = end_time - start_time\n",
    "        y_pred = model.predict(X_test)\n",
    "        accuracy = metrics.accuracy_score(y_test, y_pred)\n",
    "        print(f\"The accuracy for {model_name} model is {accuracy}.\")\n",
    "        models['Random Forest Classifier'] = (model, accuracy, total_time)\n",
    "\n",
    "    elif model_name == 'XGBoost Classifier':\n",
    "        model = xgb.XGBClassifier()\n",
    "        start_time = time.time()\n",
    "        model.fit(X_train, y_train)\n",
    "        end_time = time.time()\n",
    "        total_time = end_time - start_time\n",
    "        y_pred = model.predict(X_test)\n",
    "        accuracy = metrics.accuracy_score(y_test, y_pred)\n",
    "        print(f\"The accuracy for {model_name} model is {accuracy}.\")\n",
    "        models['XGBoost Classifier'] = (model, accuracy, total_time) \n",
    "    print(find_validation_df(y_test, y_pred).head())\n",
    "\n"
   ]
  },
  {
   "attachments": {},
   "cell_type": "markdown",
   "metadata": {},
   "source": [
    "## Generate validation dataframe for testing data and predictions"
   ]
  },
  {
   "cell_type": "code",
   "execution_count": 41,
   "metadata": {},
   "outputs": [],
   "source": [
    "def find_validation_df(y_test, y_pred):\n",
    "    data = [[test, pred] for index, (test, pred) in enumerate(zip(y_test, y_pred))]\n",
    "    validation_df = pd.DataFrame(data, columns = ['Testing Value', 'Predicted Value'])\n",
    "    return validation_df"
   ]
  },
  {
   "attachments": {},
   "cell_type": "markdown",
   "metadata": {},
   "source": [
    "## Models"
   ]
  },
  {
   "attachments": {},
   "cell_type": "markdown",
   "metadata": {},
   "source": [
    "### Decision Tree Classifier"
   ]
  },
  {
   "cell_type": "code",
   "execution_count": 42,
   "metadata": {},
   "outputs": [
    {
     "name": "stdout",
     "output_type": "stream",
     "text": [
      "The accuracy for Decision Tree Classifier model is 0.9.\n",
      "  Testing Value Predicted Value\n",
      "0        coffee          coffee\n",
      "1   pomegranate     pomegranate\n",
      "2   pomegranate     pomegranate\n",
      "3        cotton          cotton\n",
      "4      mungbean        mungbean\n"
     ]
    }
   ],
   "source": [
    "create_new_model(X_train, X_test, y_train, y_test, 'Decision Tree Classifier')"
   ]
  },
  {
   "attachments": {},
   "cell_type": "markdown",
   "metadata": {},
   "source": [
    "### Gaussian Naive Bayes"
   ]
  },
  {
   "cell_type": "code",
   "execution_count": 43,
   "metadata": {},
   "outputs": [
    {
     "name": "stdout",
     "output_type": "stream",
     "text": [
      "The accuracy for Gaussian Naive Bayes model is 0.990909090909091.\n",
      "  Testing Value Predicted Value\n",
      "0        coffee          coffee\n",
      "1   pomegranate     pomegranate\n",
      "2   pomegranate     pomegranate\n",
      "3        cotton          cotton\n",
      "4      mungbean        mungbean\n"
     ]
    }
   ],
   "source": [
    "create_new_model(X_train, X_test, y_train, y_test, 'Gaussian Naive Bayes')"
   ]
  },
  {
   "attachments": {},
   "cell_type": "markdown",
   "metadata": {},
   "source": [
    "### Support Vector Machine"
   ]
  },
  {
   "cell_type": "code",
   "execution_count": 44,
   "metadata": {},
   "outputs": [
    {
     "name": "stdout",
     "output_type": "stream",
     "text": [
      "The accuracy for Support Vector Machine model is 0.9795454545454545.\n",
      "  Testing Value Predicted Value\n",
      "0        coffee          coffee\n",
      "1   pomegranate     pomegranate\n",
      "2   pomegranate     pomegranate\n",
      "3        cotton          cotton\n",
      "4      mungbean        mungbean\n"
     ]
    }
   ],
   "source": [
    "create_new_model(X_train, X_test, y_train, y_test, 'Support Vector Machine')"
   ]
  },
  {
   "attachments": {},
   "cell_type": "markdown",
   "metadata": {},
   "source": [
    "### Logistic Regression"
   ]
  },
  {
   "cell_type": "code",
   "execution_count": 45,
   "metadata": {},
   "outputs": [
    {
     "name": "stdout",
     "output_type": "stream",
     "text": [
      "The accuracy for Logistic Regression model is 0.9522727272727273.\n",
      "  Testing Value Predicted Value\n",
      "0        coffee          coffee\n",
      "1   pomegranate     pomegranate\n",
      "2   pomegranate     pomegranate\n",
      "3        cotton          cotton\n",
      "4      mungbean        mungbean\n"
     ]
    }
   ],
   "source": [
    "create_new_model(X_train, X_test, y_train, y_test, 'Logistic Regression')"
   ]
  },
  {
   "attachments": {},
   "cell_type": "markdown",
   "metadata": {},
   "source": [
    "### Random Forest Classifier"
   ]
  },
  {
   "cell_type": "code",
   "execution_count": 46,
   "metadata": {},
   "outputs": [
    {
     "name": "stdout",
     "output_type": "stream",
     "text": [
      "The accuracy for Random Forest Classifier model is 0.990909090909091.\n",
      "  Testing Value Predicted Value\n",
      "0        coffee          coffee\n",
      "1   pomegranate     pomegranate\n",
      "2   pomegranate     pomegranate\n",
      "3        cotton          cotton\n",
      "4      mungbean        mungbean\n"
     ]
    }
   ],
   "source": [
    "create_new_model(X_train, X_test, y_train, y_test, 'Random Forest Classifier')"
   ]
  },
  {
   "attachments": {},
   "cell_type": "markdown",
   "metadata": {},
   "source": [
    "### XGBoost Classifier"
   ]
  },
  {
   "cell_type": "code",
   "execution_count": 47,
   "metadata": {},
   "outputs": [
    {
     "name": "stdout",
     "output_type": "stream",
     "text": [
      "{'apple': 0, 'banana': 1, 'blackgram': 2, 'chickpea': 3, 'coconut': 4, 'coffee': 5, 'cotton': 6, 'grapes': 7, 'jute': 8, 'kidneybeans': 9, 'lentil': 10, 'maize': 11, 'mango': 12, 'mothbeans': 13, 'mungbean': 14, 'muskmelon': 15, 'orange': 16, 'papaya': 17, 'pigeonpeas': 18, 'pomegranate': 19, 'rice': 20, 'watermelon': 21}\n"
     ]
    }
   ],
   "source": [
    "from sklearn.preprocessing import LabelEncoder\n",
    "encoder = LabelEncoder()\n",
    "y_enc = encoder.fit_transform(df['label'])\n",
    "y_train_enc = encoder.transform(y_train)\n",
    "y_test_enc = encoder.transform(y_test)\n",
    "class_mapping = dict(zip(encoder.classes_, range(len(encoder.classes_))))\n",
    "print(class_mapping)"
   ]
  },
  {
   "cell_type": "code",
   "execution_count": 48,
   "metadata": {},
   "outputs": [
    {
     "name": "stdout",
     "output_type": "stream",
     "text": [
      "The accuracy for XGBoost Classifier model is 0.9931818181818182.\n",
      "   Testing Value  Predicted Value\n",
      "0              5                5\n",
      "1             19               19\n",
      "2             19               19\n",
      "3              6                6\n",
      "4             14               14\n"
     ]
    }
   ],
   "source": [
    "create_new_model(X_train, X_test, y_train_enc, y_test_enc, 'XGBoost Classifier')"
   ]
  },
  {
   "attachments": {},
   "cell_type": "markdown",
   "metadata": {},
   "source": [
    "## Find out the best model"
   ]
  },
  {
   "cell_type": "code",
   "execution_count": 49,
   "metadata": {},
   "outputs": [
    {
     "name": "stdout",
     "output_type": "stream",
     "text": [
      "('Decision Tree Classifier', (DecisionTreeClassifier(criterion='entropy', max_depth=5, random_state=2), 0.9, 0.032143354415893555))\n",
      "('Gaussian Naive Bayes', (GaussianNB(), 0.990909090909091, 0.006486177444458008))\n",
      "('Support Vector Machine', (SVC(C=1, kernel='poly'), 0.9795454545454545, 0.019932985305786133))\n",
      "('Logistic Regression', (LogisticRegression(random_state=2), 0.9522727272727273, 0.19039487838745117))\n",
      "('Random Forest Classifier', (RandomForestClassifier(n_estimators=20, random_state=0), 0.990909090909091, 0.10425257682800293))\n",
      "('XGBoost Classifier', (XGBClassifier(base_score=None, booster=None, callbacks=None,\n",
      "              colsample_bylevel=None, colsample_bynode=None,\n",
      "              colsample_bytree=None, early_stopping_rounds=None,\n",
      "              enable_categorical=False, eval_metric=None, feature_types=None,\n",
      "              gamma=None, gpu_id=None, grow_policy=None, importance_type=None,\n",
      "              interaction_constraints=None, learning_rate=None, max_bin=None,\n",
      "              max_cat_threshold=None, max_cat_to_onehot=None,\n",
      "              max_delta_step=None, max_depth=None, max_leaves=None,\n",
      "              min_child_weight=None, missing=nan, monotone_constraints=None,\n",
      "              n_estimators=100, n_jobs=None, num_parallel_tree=None,\n",
      "              objective='multi:softprob', predictor=None, ...), 0.9931818181818182, 0.7522318363189697))\n"
     ]
    }
   ],
   "source": [
    "for item in models.items():\n",
    "  print(item)"
   ]
  },
  {
   "cell_type": "code",
   "execution_count": 27,
   "metadata": {},
   "outputs": [],
   "source": [
    "def sort_comparator(m1, m2):\n",
    "    if m1[1][1]> m2[1][1]:\n",
    "        return -1\n",
    "    elif m1[1][1] < m2[1][1]:\n",
    "        return 1\n",
    "    else:\n",
    "        return 0"
   ]
  },
  {
   "cell_type": "code",
   "execution_count": 50,
   "metadata": {},
   "outputs": [
    {
     "name": "stdout",
     "output_type": "stream",
     "text": [
      "The best model is Gaussian Naive Bayes, with an accuracy of 0.990909090909091.\n"
     ]
    }
   ],
   "source": [
    "from functools import cmp_to_key\n",
    "temp_arr = [item for item in models.items()]\n",
    "best_model = sorted(temp_arr, key=cmp_to_key(sort_comparator))[1]\n",
    "print(f\"The best model is {best_model[0]}, with an accuracy of {best_model[1][1]}.\")"
   ]
  },
  {
   "cell_type": "code",
   "execution_count": 51,
   "metadata": {},
   "outputs": [
    {
     "name": "stdout",
     "output_type": "stream",
     "text": [
      "{'Decision Tree Classifier': (DecisionTreeClassifier(criterion='entropy', max_depth=5, random_state=2), 0.9, 0.032143354415893555), 'Gaussian Naive Bayes': (GaussianNB(), 0.990909090909091, 0.006486177444458008), 'Support Vector Machine': (SVC(C=1, kernel='poly'), 0.9795454545454545, 0.019932985305786133), 'Logistic Regression': (LogisticRegression(random_state=2), 0.9522727272727273, 0.19039487838745117), 'Random Forest Classifier': (RandomForestClassifier(n_estimators=20, random_state=0), 0.990909090909091, 0.10425257682800293), 'XGBoost Classifier': (XGBClassifier(base_score=None, booster=None, callbacks=None,\n",
      "              colsample_bylevel=None, colsample_bynode=None,\n",
      "              colsample_bytree=None, early_stopping_rounds=None,\n",
      "              enable_categorical=False, eval_metric=None, feature_types=None,\n",
      "              gamma=None, gpu_id=None, grow_policy=None, importance_type=None,\n",
      "              interaction_constraints=None, learning_rate=None, max_bin=None,\n",
      "              max_cat_threshold=None, max_cat_to_onehot=None,\n",
      "              max_delta_step=None, max_depth=None, max_leaves=None,\n",
      "              min_child_weight=None, missing=nan, monotone_constraints=None,\n",
      "              n_estimators=100, n_jobs=None, num_parallel_tree=None,\n",
      "              objective='multi:softprob', predictor=None, ...), 0.9931818181818182, 0.7522318363189697)}\n"
     ]
    }
   ],
   "source": [
    "print(models)"
   ]
  },
  {
   "cell_type": "code",
   "execution_count": 52,
   "metadata": {},
   "outputs": [
    {
     "data": {
      "text/html": [
       "<div>\n",
       "<style scoped>\n",
       "    .dataframe tbody tr th:only-of-type {\n",
       "        vertical-align: middle;\n",
       "    }\n",
       "\n",
       "    .dataframe tbody tr th {\n",
       "        vertical-align: top;\n",
       "    }\n",
       "\n",
       "    .dataframe thead th {\n",
       "        text-align: right;\n",
       "    }\n",
       "</style>\n",
       "<table border=\"1\" class=\"dataframe\">\n",
       "  <thead>\n",
       "    <tr style=\"text-align: right;\">\n",
       "      <th></th>\n",
       "      <th>Accuracy</th>\n",
       "      <th>Training Time</th>\n",
       "      <th>Model Factor</th>\n",
       "    </tr>\n",
       "  </thead>\n",
       "  <tbody>\n",
       "    <tr>\n",
       "      <th>Decision Tree Classifier</th>\n",
       "      <td>90.0%</td>\n",
       "      <td>0.032143</td>\n",
       "      <td>2799.956683</td>\n",
       "    </tr>\n",
       "    <tr>\n",
       "      <th>Gaussian Naive Bayes</th>\n",
       "      <td>99.09%</td>\n",
       "      <td>0.006486</td>\n",
       "      <td>15277.24302</td>\n",
       "    </tr>\n",
       "    <tr>\n",
       "      <th>Support Vector Machine</th>\n",
       "      <td>97.95%</td>\n",
       "      <td>0.019933</td>\n",
       "      <td>4914.193431</td>\n",
       "    </tr>\n",
       "    <tr>\n",
       "      <th>Logistic Regression</th>\n",
       "      <td>95.23%</td>\n",
       "      <td>0.190395</td>\n",
       "      <td>500.156693</td>\n",
       "    </tr>\n",
       "    <tr>\n",
       "      <th>Random Forest Classifier</th>\n",
       "      <td>99.09%</td>\n",
       "      <td>0.104253</td>\n",
       "      <td>950.488823</td>\n",
       "    </tr>\n",
       "    <tr>\n",
       "      <th>XGBoost Classifier</th>\n",
       "      <td>99.32%</td>\n",
       "      <td>0.752232</td>\n",
       "      <td>132.031346</td>\n",
       "    </tr>\n",
       "  </tbody>\n",
       "</table>\n",
       "</div>"
      ],
      "text/plain": [
       "                         Accuracy Training Time Model Factor\n",
       "Decision Tree Classifier    90.0%      0.032143  2799.956683\n",
       "Gaussian Naive Bayes       99.09%      0.006486  15277.24302\n",
       "Support Vector Machine     97.95%      0.019933  4914.193431\n",
       "Logistic Regression        95.23%      0.190395   500.156693\n",
       "Random Forest Classifier   99.09%      0.104253   950.488823\n",
       "XGBoost Classifier         99.32%      0.752232   132.031346"
      ]
     },
     "execution_count": 52,
     "metadata": {},
     "output_type": "execute_result"
    }
   ],
   "source": [
    "models_summary = dict()\n",
    "for key in models.keys():\n",
    "  models_summary[key] = dict()\n",
    "  models_summary[key]['Accuracy'] = f'{round(models[key][1]*100, 2)}%'\n",
    "  models_summary[key]['Training Time'] = models[key][2]\n",
    "  models_summary[key]['Model Factor'] = models[key][1]*100 / models[key][2]\n",
    "  # models_summary.append(new_model)\n",
    "models_summary_df = pd.DataFrame.from_dict(models_summary).transpose()\n",
    "models_summary_df"
   ]
  },
  {
   "attachments": {},
   "cell_type": "markdown",
   "metadata": {},
   "source": [
    "## Save the best model"
   ]
  },
  {
   "cell_type": "code",
   "execution_count": 107,
   "metadata": {},
   "outputs": [],
   "source": [
    "import pickle\n",
    "import os\n",
    "filepath = os.path.join(os.getcwd(), '../models', 'crop-recommendation-model.pkl')\n",
    "with open(filepath, 'wb') as f:\n",
    "    pickle.dump(best_model[1][0], f)"
   ]
  },
  {
   "cell_type": "code",
   "execution_count": null,
   "metadata": {},
   "outputs": [],
   "source": [
    "image_cat = ['rice', 'maize', 'chickpea', 'kidneybeans', 'pigeonpeas', 'mothbeans', 'mungbean', 'blackgram', 'lentil', 'pomegranate', 'banana', 'mango', 'grapes', 'watermelon', 'muskmelon', 'apple', 'orange', 'papaya', 'coconut', 'cotton', 'jute', 'coffee']"
   ]
  }
 ],
 "metadata": {
  "kernelspec": {
   "display_name": "Python 3",
   "language": "python",
   "name": "python3"
  },
  "language_info": {
   "codemirror_mode": {
    "name": "ipython",
    "version": 3
   },
   "file_extension": ".py",
   "mimetype": "text/x-python",
   "name": "python",
   "nbconvert_exporter": "python",
   "pygments_lexer": "ipython3",
   "version": "3.9.7"
  },
  "orig_nbformat": 4,
  "vscode": {
   "interpreter": {
    "hash": "81794d4967e6c3204c66dcd87b604927b115b27c00565d3d43f05ba2f3a2cb0d"
   }
  }
 },
 "nbformat": 4,
 "nbformat_minor": 2
}
